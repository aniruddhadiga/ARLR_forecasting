{
 "cells": [
  {
   "cell_type": "code",
   "execution_count": 31,
   "metadata": {},
   "outputs": [],
   "source": [
    "import pandas as pd\n",
    "import os"
   ]
  },
  {
   "cell_type": "code",
   "execution_count": 34,
   "metadata": {},
   "outputs": [],
   "source": [
    "subdir = 'output/ARLR_GaussKernel/2018/'"
   ]
  },
  {
   "cell_type": "code",
   "execution_count": 35,
   "metadata": {},
   "outputs": [],
   "source": [
    "for fname in os.listdir(subdir):\n",
    "    with open(subdir+fname,'r') as f:\n",
    "        orig_str = f.read()\n",
    "        #repl_str = orig_str.replace('National', 'US National').replace('Region', 'HHS Region')\n",
    "        repl_str = orig_str.replace('.0765','0.029411765')\n",
    "\n",
    "    with open(subdir+fname,'w') as f:\n",
    "        f.write(repl_str)"
   ]
  },
  {
   "cell_type": "code",
   "execution_count": 36,
   "metadata": {},
   "outputs": [],
   "source": [
    "df = pd.read_csv('output/ARLR_GaussKernel/2018/EW01-2019-FluX_ARLR.csv')"
   ]
  },
  {
   "cell_type": "code",
   "execution_count": 42,
   "metadata": {},
   "outputs": [
    {
     "data": {
      "text/plain": [
       "Location       Target                \n",
       "HHS Region 1   1 wk ahead                1.001300\n",
       "               2 wk ahead                1.001300\n",
       "               3 wk ahead                1.001300\n",
       "               4 wk ahead                1.001300\n",
       "               Season onset              1.000000\n",
       "               Season peak percentage    1.000000\n",
       "               Season peak week          1.000000\n",
       "HHS Region 10  1 wk ahead                1.001300\n",
       "               2 wk ahead                1.001300\n",
       "               3 wk ahead                1.001300\n",
       "               4 wk ahead                1.001300\n",
       "               Season onset              1.000000\n",
       "               Season peak percentage    1.000000\n",
       "               Season peak week          1.000000\n",
       "HHS Region 2   1 wk ahead                1.001300\n",
       "               2 wk ahead                1.001300\n",
       "               3 wk ahead                1.001300\n",
       "               4 wk ahead                1.001300\n",
       "               Season onset              1.000000\n",
       "               Season peak percentage    1.000000\n",
       "               Season peak week          1.000000\n",
       "HHS Region 3   1 wk ahead                0.954158\n",
       "               2 wk ahead                1.001300\n",
       "               3 wk ahead                1.001300\n",
       "               4 wk ahead                1.001300\n",
       "               Season onset              1.000000\n",
       "               Season peak percentage    1.000000\n",
       "               Season peak week          1.000000\n",
       "HHS Region 4   1 wk ahead                1.001300\n",
       "               2 wk ahead                1.001300\n",
       "                                           ...   \n",
       "HHS Region 6   Season peak percentage    1.000000\n",
       "               Season peak week          1.000000\n",
       "HHS Region 7   1 wk ahead                1.001300\n",
       "               2 wk ahead                1.001300\n",
       "               3 wk ahead                1.001300\n",
       "               4 wk ahead                1.001300\n",
       "               Season onset              1.000000\n",
       "               Season peak percentage    1.000000\n",
       "               Season peak week          1.000000\n",
       "HHS Region 8   1 wk ahead                1.001300\n",
       "               2 wk ahead                1.001300\n",
       "               3 wk ahead                1.001300\n",
       "               4 wk ahead                1.001300\n",
       "               Season onset              1.000000\n",
       "               Season peak percentage    1.000000\n",
       "               Season peak week          1.000000\n",
       "HHS Region 9   1 wk ahead                1.001300\n",
       "               2 wk ahead                1.001300\n",
       "               3 wk ahead                1.001300\n",
       "               4 wk ahead                1.001300\n",
       "               Season onset              1.000000\n",
       "               Season peak percentage    1.000000\n",
       "               Season peak week          1.000000\n",
       "US National    1 wk ahead                1.001300\n",
       "               2 wk ahead                1.001300\n",
       "               3 wk ahead                1.001300\n",
       "               4 wk ahead                1.001300\n",
       "               Season onset              1.000000\n",
       "               Season peak percentage    1.000000\n",
       "               Season peak week          1.000000\n",
       "Name: Value, Length: 77, dtype: float64"
      ]
     },
     "execution_count": 42,
     "metadata": {},
     "output_type": "execute_result"
    }
   ],
   "source": [
    "df[df.Type=='Bin'].groupby(['Location','Target']).Value.sum()"
   ]
  }
 ],
 "metadata": {
  "kernelspec": {
   "display_name": "Python 3",
   "language": "python",
   "name": "python3"
  },
  "language_info": {
   "codemirror_mode": {
    "name": "ipython",
    "version": 3
   },
   "file_extension": ".py",
   "mimetype": "text/x-python",
   "name": "python",
   "nbconvert_exporter": "python",
   "pygments_lexer": "ipython3",
   "version": "3.6.8"
  }
 },
 "nbformat": 4,
 "nbformat_minor": 2
}
